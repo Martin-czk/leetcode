{
 "cells": [
  {
   "cell_type": "code",
   "execution_count": 1,
   "metadata": {},
   "outputs": [
    {
     "data": {
      "text/plain": [
       "'\\nGiven a n-ary tree, find its maximum depth.\\n\\nThe maximum depth is the number of nodes along the longest path from the root node down to the farthest leaf node.\\n\\nNary-Tree input serialization\\xa0is represented in their level order traversal, each group of children is separated by the null value (See examples).\\n\\n\\xa0\\n\\nExample 1:\\n\\n\\n\\nInput: root = [1,null,3,2,4,null,5,6]\\nOutput: 3\\nExample 2:\\n\\n\\n\\nInput: root = [1,null,2,3,4,5,null,null,6,7,null,8,null,9,10,null,null,11,null,12,null,13,null,null,14]\\nOutput: 5\\n\\xa0\\n\\nConstraints:\\n\\nThe depth of the n-ary tree is less than or equal to 1000.\\nThe total number of nodes is between [0,\\xa010^4]\\n\\n来源：力扣（LeetCode）\\n链接：https://leetcode-cn.com/problems/maximum-depth-of-n-ary-tree\\n\\n'"
      ]
     },
     "execution_count": 1,
     "metadata": {},
     "output_type": "execute_result"
    }
   ],
   "source": [
    "'''\n",
    "Given a n-ary tree, find its maximum depth.\n",
    "\n",
    "The maximum depth is the number of nodes along the longest path from the root node down to the farthest leaf node.\n",
    "Nary-Tree input serialization is represented in their level order traversal, \n",
    "each group of children is separated by the null value (See examples).\n",
    "\n",
    " \n",
    "\n",
    "Example 1:\n",
    "\n",
    "\n",
    "\n",
    "Input: root = [1,null,3,2,4,null,5,6]\n",
    "Output: 3\n",
    "Example 2:\n",
    "\n",
    "\n",
    "\n",
    "Input: root = [1,null,2,3,4,5,null,null,6,7,null,8,null,9,10,null,null,11,null,12,null,13,null,null,14]\n",
    "Output: 5\n",
    " \n",
    "\n",
    "Constraints:\n",
    "\n",
    "The depth of the n-ary tree is less than or equal to 1000.\n",
    "The total number of nodes is between [0, 10^4]\n",
    "\n",
    "来源：力扣（LeetCode）\n",
    "链接：https://leetcode-cn.com/problems/maximum-depth-of-n-ary-tree\n",
    "\n",
    "'''"
   ]
  },
  {
   "cell_type": "code",
   "execution_count": 2,
   "metadata": {},
   "outputs": [],
   "source": [
    "#方法1 递归\n",
    "\"\"\"\n",
    "# Definition for a Node.\n",
    "class Node(object):\n",
    "    def __init__(self, val=None, children=None):\n",
    "        self.val = val\n",
    "        self.children = children\n",
    "\"\"\"\n",
    "\n",
    "class Solution(object):\n",
    "    def maxDepth(self, root):\n",
    "        \"\"\"\n",
    "        :type root: Node\n",
    "        :rtype: int\n",
    "        \"\"\"\n",
    "        depth=0\n",
    "        if root ==None:\n",
    "            #print (\"triggered retunr 0\")\n",
    "            return 0\n",
    "        elif root.children == []:\n",
    "            #print ('triggered retunr 1')\n",
    "            return 1\n",
    "        else:\n",
    "            height=[]\n",
    "            for c in root.children:\n",
    "                h=self.maxDepth(c)\n",
    "                height.append(h)\n",
    "            print ('final height',height)\n",
    "        return max(height) + 1 "
   ]
  },
  {
   "cell_type": "code",
   "execution_count": null,
   "metadata": {},
   "outputs": [],
   "source": [
    "class Solution(object):\n",
    "    def maxDepth(self, root):\n",
    "        \"\"\"\n",
    "        :type root: Node\n",
    "        :rtype: int\n",
    "        \"\"\"\n",
    "        stack = []\n",
    "        if root==None:\n",
    "            return 0\n",
    "        depth=1\n",
    "        max_depth=depth\n",
    "        stack.append((root,depth))\n",
    "        print (stack)\n",
    "        while stack!=[]:\n",
    "            x=stack.pop()\n",
    "            node = x[0]\n",
    "            depth=x[1]\n",
    "            print ('now we poped ',node.val)\n",
    "            print ('now depth is ',depth)\n",
    "            for v in node.children:\n",
    "                print ('v.val =',v.val)\n",
    "                if v.children!=None:\n",
    "                    stack.append((v,depth+1))\n",
    "            print(depth)\n",
    "            if depth>=max_depth:\n",
    "                max_depth=depth\n",
    "        return max_depth        \n"
   ]
  }
 ],
 "metadata": {
  "kernelspec": {
   "display_name": "Python 3",
   "language": "python",
   "name": "python3"
  },
  "language_info": {
   "codemirror_mode": {
    "name": "ipython",
    "version": 3
   },
   "file_extension": ".py",
   "mimetype": "text/x-python",
   "name": "python",
   "nbconvert_exporter": "python",
   "pygments_lexer": "ipython3",
   "version": "3.6.4"
  }
 },
 "nbformat": 4,
 "nbformat_minor": 2
}
